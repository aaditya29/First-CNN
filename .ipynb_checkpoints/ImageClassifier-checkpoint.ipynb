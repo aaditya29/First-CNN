{
 "cells": [
  {
   "cell_type": "code",
   "execution_count": 1,
   "metadata": {},
   "outputs": [
    {
     "name": "stderr",
     "output_type": "stream",
     "text": [
      "/anaconda3/lib/python3.6/site-packages/h5py/__init__.py:36: FutureWarning: Conversion of the second argument of issubdtype from `float` to `np.floating` is deprecated. In future, it will be treated as `np.float64 == np.dtype(float).type`.\n",
      "  from ._conv import register_converters as _register_converters\n",
      "Using TensorFlow backend.\n"
     ]
    }
   ],
   "source": [
    "from keras.datasets import cifar10\n",
    "(x_train, y_train), (x_test, y_test) = cifar10.load_data()"
   ]
  },
  {
   "cell_type": "code",
   "execution_count": 2,
   "metadata": {},
   "outputs": [
    {
     "name": "stdout",
     "output_type": "stream",
     "text": [
      "x_train shape: (50000, 32, 32, 3)\n"
     ]
    }
   ],
   "source": [
    "#shape of our input features array\n",
    "print('x_train shape:', x_train.shape)"
   ]
  },
  {
   "cell_type": "markdown",
   "metadata": {},
   "source": [
    "#### We have 5000 images with 32 pixel in height, 32 pixel in width and 3 pixels in depth"
   ]
  },
  {
   "cell_type": "code",
   "execution_count": 3,
   "metadata": {},
   "outputs": [
    {
     "name": "stdout",
     "output_type": "stream",
     "text": [
      "[[[ 59  62  63]\n",
      "  [ 43  46  45]\n",
      "  [ 50  48  43]\n",
      "  ...\n",
      "  [158 132 108]\n",
      "  [152 125 102]\n",
      "  [148 124 103]]\n",
      "\n",
      " [[ 16  20  20]\n",
      "  [  0   0   0]\n",
      "  [ 18   8   0]\n",
      "  ...\n",
      "  [123  88  55]\n",
      "  [119  83  50]\n",
      "  [122  87  57]]\n",
      "\n",
      " [[ 25  24  21]\n",
      "  [ 16   7   0]\n",
      "  [ 49  27   8]\n",
      "  ...\n",
      "  [118  84  50]\n",
      "  [120  84  50]\n",
      "  [109  73  42]]\n",
      "\n",
      " ...\n",
      "\n",
      " [[208 170  96]\n",
      "  [201 153  34]\n",
      "  [198 161  26]\n",
      "  ...\n",
      "  [160 133  70]\n",
      "  [ 56  31   7]\n",
      "  [ 53  34  20]]\n",
      "\n",
      " [[180 139  96]\n",
      "  [173 123  42]\n",
      "  [186 144  30]\n",
      "  ...\n",
      "  [184 148  94]\n",
      "  [ 97  62  34]\n",
      "  [ 83  53  34]]\n",
      "\n",
      " [[177 144 116]\n",
      "  [168 129  94]\n",
      "  [179 142  87]\n",
      "  ...\n",
      "  [216 184 140]\n",
      "  [151 118  84]\n",
      "  [123  92  72]]]\n"
     ]
    }
   ],
   "source": [
    "#printing the first image in the way how computer sees the image\n",
    "print(x_train[0])"
   ]
  },
  {
   "cell_type": "code",
   "execution_count": 4,
   "metadata": {},
   "outputs": [
    {
     "data": {
      "image/png": "[encoded data removed]",
      "text/plain": [
       "<Figure size 432x288 with 1 Axes>"
      ]
     },
     "metadata": {},
     "output_type": "display_data"
    }
   ],
   "source": [
    "#visualising by matplotlib\n",
    "import matplotlib.pyplot as plt\n",
    "#It tells the notebook that we wish for the image to display within the image\n",
    "%matplotlib inline\n",
    "img = plt.imshow(x_train[0])"
   ]
  },
  {
   "cell_type": "code",
   "execution_count": 5,
   "metadata": {},
   "outputs": [
    {
     "name": "stdout",
     "output_type": "stream",
     "text": [
      "The label is: [6]\n"
     ]
    }
   ],
   "source": [
    "#Figuring out the label of the image\n",
    "print('The label is:', y_train[0])"
   ]
  },
  {
   "cell_type": "markdown",
   "metadata": {},
   "source": [
    "#### Following are labels of the image sorted alphabetically\n",
    "\n",
    "1. 0 for airplane\n",
    "2. 1 for automobile\n",
    "3. 2 for bird\n",
    "4. 3 for cat\n",
    "5. 4 for deer\n",
    "6. 5 for dog\n",
    "7. 6 for frog\n",
    "8. 7 for horse\n",
    "9. 8 for ship\n",
    "10. 9 for truck"
   ]
  },
  {
   "cell_type": "code",
   "execution_count": 6,
   "metadata": {},
   "outputs": [
    {
     "name": "stdout",
     "output_type": "stream",
     "text": [
      "The label is: [9]\n"
     ]
    },
    {
     "data": {
      "image/png": "[encoded data removed]",
      "text/plain": [
       "<Figure size 432x288 with 1 Axes>"
      ]
     },
     "metadata": {},
     "output_type": "display_data"
    }
   ],
   "source": [
    "#Another example of the image\n",
    "img = plt.imshow(x_train[1])\n",
    "print('The label is:', y_train[1])"
   ]
  },
  {
   "cell_type": "markdown",
   "metadata": {},
   "source": [
    "### Converting the label into a set of 10 numbers where each number represents if the image belongs to that class or not by the One-hot encoding"
   ]
  },
  {
   "cell_type": "code",
   "execution_count": 7,
   "metadata": {},
   "outputs": [
    {
     "name": "stdout",
     "output_type": "stream",
     "text": [
      "The one hot label is: [0. 0. 0. 0. 0. 0. 0. 0. 0. 1.]\n"
     ]
    }
   ],
   "source": [
    "import keras\n",
    "#taking the initial array with just the number, y_train and converting\n",
    "#it into the one_hot_encodings y_train_one_hot\n",
    "y_train_one_hot = keras.utils.to_categorical(y_train,10)\n",
    "y_test_one_hot = keras.utils.to_categorical(y_test,10)\n",
    "print('The one hot label is:', y_train_one_hot[1])"
   ]
  },
  {
   "cell_type": "markdown",
   "metadata": {},
   "source": [
    "Since we have processed our labels(y) we also have to process our image(x).\n",
    "First we will take a common step by giving the values beteen 0 and 1 which will aid in the training of our neural network.\n",
    "Since our pixel values already take the values between 0 and 255 we simply need to divide by 255"
   ]
  },
  {
   "cell_type": "code",
   "execution_count": 8,
   "metadata": {},
   "outputs": [
    {
     "data": {
      "text/plain": [
       "array([[[0.23137255, 0.24313726, 0.24705882],\n",
       "        [0.16862746, 0.18039216, 0.1764706 ],\n",
       "        [0.19607843, 0.1882353 , 0.16862746],\n",
       "        ...,\n",
       "        [0.61960787, 0.5176471 , 0.42352942],\n",
       "        [0.59607846, 0.49019608, 0.4       ],\n",
       "        [0.5803922 , 0.4862745 , 0.40392157]],\n",
       "\n",
       "       [[0.0627451 , 0.07843138, 0.07843138],\n",
       "        [0.        , 0.        , 0.        ],\n",
       "        [0.07058824, 0.03137255, 0.        ],\n",
       "        ...,\n",
       "        [0.48235294, 0.34509805, 0.21568628],\n",
       "        [0.46666667, 0.3254902 , 0.19607843],\n",
       "        [0.47843137, 0.34117648, 0.22352941]],\n",
       "\n",
       "       [[0.09803922, 0.09411765, 0.08235294],\n",
       "        [0.0627451 , 0.02745098, 0.        ],\n",
       "        [0.19215687, 0.10588235, 0.03137255],\n",
       "        ...,\n",
       "        [0.4627451 , 0.32941177, 0.19607843],\n",
       "        [0.47058824, 0.32941177, 0.19607843],\n",
       "        [0.42745098, 0.28627452, 0.16470589]],\n",
       "\n",
       "       ...,\n",
       "\n",
       "       [[0.8156863 , 0.6666667 , 0.3764706 ],\n",
       "        [0.7882353 , 0.6       , 0.13333334],\n",
       "        [0.7764706 , 0.6313726 , 0.10196079],\n",
       "        ...,\n",
       "        [0.627451  , 0.52156866, 0.27450982],\n",
       "        [0.21960784, 0.12156863, 0.02745098],\n",
       "        [0.20784314, 0.13333334, 0.07843138]],\n",
       "\n",
       "       [[0.7058824 , 0.54509807, 0.3764706 ],\n",
       "        [0.6784314 , 0.48235294, 0.16470589],\n",
       "        [0.7294118 , 0.5647059 , 0.11764706],\n",
       "        ...,\n",
       "        [0.72156864, 0.5803922 , 0.36862746],\n",
       "        [0.38039216, 0.24313726, 0.13333334],\n",
       "        [0.3254902 , 0.20784314, 0.13333334]],\n",
       "\n",
       "       [[0.69411767, 0.5647059 , 0.45490196],\n",
       "        [0.65882355, 0.5058824 , 0.36862746],\n",
       "        [0.7019608 , 0.5568628 , 0.34117648],\n",
       "        ...,\n",
       "        [0.84705883, 0.72156864, 0.54901963],\n",
       "        [0.5921569 , 0.4627451 , 0.32941177],\n",
       "        [0.48235294, 0.36078432, 0.28235295]]], dtype=float32)"
      ]
     },
     "execution_count": 8,
     "metadata": {},
     "output_type": "execute_result"
    }
   ],
   "source": [
    "x_train = x_train.astype('float32')\n",
    "x_test = x_test.astype('float32')\n",
    "x_train = x_train / 255\n",
    "x_test = x_test / 255\n",
    "#array values of first training image\n",
    "x_train[0]"
   ]
  },
  {
   "cell_type": "markdown",
   "metadata": {},
   "source": [
    "# Building And Training CNN"
   ]
  },
  {
   "cell_type": "code",
   "execution_count": 17,
   "metadata": {},
   "outputs": [
    {
     "name": "stdout",
     "output_type": "stream",
     "text": [
      "_________________________________________________________________\n",
      "Layer (type)                 Output Shape              Param #   \n",
      "=================================================================\n",
      "conv2d_11 (Conv2D)           (None, 32, 32, 32)        896       \n",
      "_________________________________________________________________\n",
      "conv2d_12 (Conv2D)           (None, 32, 32, 32)        9248      \n",
      "_________________________________________________________________\n",
      "max_pooling2d_4 (MaxPooling2 (None, 16, 16, 32)        0         \n",
      "_________________________________________________________________\n",
      "dropout_4 (Dropout)          (None, 16, 16, 32)        0         \n",
      "_________________________________________________________________\n",
      "conv2d_13 (Conv2D)           (None, 16, 16, 64)        18496     \n",
      "_________________________________________________________________\n",
      "conv2d_14 (Conv2D)           (None, 16, 16, 64)        36928     \n",
      "_________________________________________________________________\n",
      "max_pooling2d_5 (MaxPooling2 (None, 8, 8, 64)          0         \n",
      "_________________________________________________________________\n",
      "dropout_5 (Dropout)          (None, 8, 8, 64)          0         \n",
      "_________________________________________________________________\n",
      "flatten_1 (Flatten)          (None, 4096)              0         \n",
      "_________________________________________________________________\n",
      "dense_1 (Dense)              (None, 512)               2097664   \n",
      "_________________________________________________________________\n",
      "dropout_6 (Dropout)          (None, 512)               0         \n",
      "_________________________________________________________________\n",
      "dense_2 (Dense)              (None, 10)                5130      \n",
      "=================================================================\n",
      "Total params: 2,168,362\n",
      "Trainable params: 2,168,362\n",
      "Non-trainable params: 0\n",
      "_________________________________________________________________\n"
     ]
    }
   ],
   "source": [
    "#Setting up the architecture\n",
    "#Importing the code we need\n",
    "from keras.models import Sequential\n",
    "from keras.layers import Dense, Dropout, Flatten, Conv2D, MaxPooling2D\n",
    "\n",
    "#Calling empty sequential model\n",
    "model = Sequential()\n",
    "\n",
    "\"\"\"\n",
    "We will add layers in our model one at a time. \n",
    "The first layer which is a conv layer with size 3X3, sride size 1 in both dimension\n",
    "and depth 32. The padding is same and activation is 'relu'.\n",
    "\"\"\"\n",
    "\n",
    "#The first number is depth, next is filter width and size\n",
    "#We didn;t specify stride because stride as default is already 1 so no need\n",
    "model.add(Conv2D(32, (3,3), activation='relu', padding ='same', \n",
    "                input_shape=(32,32,3)))\n",
    "\n",
    "#adding the second layer\n",
    "model.add(Conv2D(32, (3,3), activation='relu', padding = 'same'))\n",
    "\n",
    "#Enxt layer is MaxPool Layer with pool size 2X2 and stride 2\n",
    "model.add(MaxPooling2D(pool_size=(2,2)))##No need to add stride in MaxPool because default it take pool size as stride\n",
    "\n",
    "#adding dropout layer to prevent overfitting\n",
    "model.add(Dropout(0.25))\n",
    "\n",
    "#adding next 4 layers\n",
    "model.add(Conv2D(64, (3, 3), activation='relu', padding='same'))\n",
    "model.add(Conv2D(64, (3, 3), activation='relu', padding='same'))\n",
    "model.add(MaxPooling2D(pool_size=(2, 2)))\n",
    "model.add(Dropout(0.25))\n",
    "\n",
    "\"\"\"\n",
    "At this point, our neurons are spatially arranged in a cube-like forma rather than a row.\n",
    "To make this cube-like neuroon in one row, we have to flatten it\n",
    "\"\"\"\n",
    "\n",
    "#dding a flatten layer\n",
    "model.add(Flatten())\n",
    "\n",
    "#Dense(FC) layer of 512 neurons with relu activation\n",
    "model.add(Dense(512, activation='relu'))\n",
    "#Dropout of probablity 0.5\n",
    "model.add(Dropout(0.5))\n",
    "#Dnese layer with 10 neurons and softmax activation\n",
    "model.add(Dense(10, activation='softmax'))\n",
    "\n",
    "#Summarising the architecture\n",
    "model.summary()"
   ]
  },
  {
   "cell_type": "markdown",
   "metadata": {},
   "source": [
    "### Filling Up The Best Numbers"
   ]
  },
  {
   "cell_type": "code",
   "execution_count": 18,
   "metadata": {},
   "outputs": [
    {
     "name": "stdout",
     "output_type": "stream",
     "text": [
      "Train on 40000 samples, validate on 10000 samples\n",
      "Epoch 1/20\n",
      "40000/40000 [==============================] - 300s 7ms/step - loss: 1.6271 - acc: 0.4027 - val_loss: 1.2658 - val_acc: 0.5490\n",
      "Epoch 2/20\n",
      "40000/40000 [==============================] - 294s 7ms/step - loss: 1.2141 - acc: 0.5631 - val_loss: 1.0263 - val_acc: 0.6371\n",
      "Epoch 3/20\n",
      "40000/40000 [==============================] - 311s 8ms/step - loss: 1.0414 - acc: 0.6290 - val_loss: 0.9189 - val_acc: 0.6698\n",
      "Epoch 4/20\n",
      "40000/40000 [==============================] - 273s 7ms/step - loss: 0.9315 - acc: 0.6705 - val_loss: 0.8109 - val_acc: 0.7133\n",
      "Epoch 5/20\n",
      "40000/40000 [==============================] - 284s 7ms/step - loss: 0.8537 - acc: 0.6995 - val_loss: 0.7822 - val_acc: 0.7260\n",
      "Epoch 6/20\n",
      "40000/40000 [==============================] - 283s 7ms/step - loss: 0.7883 - acc: 0.7202 - val_loss: 0.7841 - val_acc: 0.7225\n",
      "Epoch 7/20\n",
      "40000/40000 [==============================] - 298s 7ms/step - loss: 0.7378 - acc: 0.7403 - val_loss: 0.7988 - val_acc: 0.7238\n",
      "Epoch 8/20\n",
      "40000/40000 [==============================] - 293s 7ms/step - loss: 0.6968 - acc: 0.7542 - val_loss: 0.7397 - val_acc: 0.7422\n",
      "Epoch 9/20\n",
      "40000/40000 [==============================] - 300s 7ms/step - loss: 0.6567 - acc: 0.7666 - val_loss: 0.6824 - val_acc: 0.7632\n",
      "Epoch 10/20\n",
      "40000/40000 [==============================] - 1715s 43ms/step - loss: 0.6230 - acc: 0.7782 - val_loss: 0.6885 - val_acc: 0.7631\n",
      "Epoch 11/20\n",
      "40000/40000 [==============================] - 266s 7ms/step - loss: 0.5940 - acc: 0.7909 - val_loss: 0.7160 - val_acc: 0.7589\n",
      "Epoch 12/20\n",
      "40000/40000 [==============================] - 267s 7ms/step - loss: 0.5680 - acc: 0.8005 - val_loss: 0.6892 - val_acc: 0.7638\n",
      "Epoch 13/20\n",
      "40000/40000 [==============================] - 266s 7ms/step - loss: 0.5481 - acc: 0.8035 - val_loss: 0.7484 - val_acc: 0.7477\n",
      "Epoch 14/20\n",
      "40000/40000 [==============================] - 266s 7ms/step - loss: 0.5207 - acc: 0.8157 - val_loss: 0.6917 - val_acc: 0.7723\n",
      "Epoch 15/20\n",
      "40000/40000 [==============================] - 265s 7ms/step - loss: 0.4952 - acc: 0.8248 - val_loss: 0.7236 - val_acc: 0.7655\n",
      "Epoch 16/20\n",
      "40000/40000 [==============================] - 266s 7ms/step - loss: 0.4821 - acc: 0.8291 - val_loss: 0.6948 - val_acc: 0.7677\n",
      "Epoch 17/20\n",
      "40000/40000 [==============================] - 266s 7ms/step - loss: 0.4717 - acc: 0.8337 - val_loss: 0.7151 - val_acc: 0.7750\n",
      "Epoch 18/20\n",
      "40000/40000 [==============================] - 266s 7ms/step - loss: 0.4451 - acc: 0.8426 - val_loss: 0.7090 - val_acc: 0.7753\n",
      "Epoch 19/20\n",
      "40000/40000 [==============================] - 266s 7ms/step - loss: 0.4383 - acc: 0.8445 - val_loss: 0.7247 - val_acc: 0.7811\n",
      "Epoch 20/20\n",
      "40000/40000 [==============================] - 266s 7ms/step - loss: 0.4293 - acc: 0.8492 - val_loss: 0.7012 - val_acc: 0.7772\n"
     ]
    }
   ],
   "source": [
    "#Compiling the model with our settings\n",
    "\n",
    "\"\"\"\n",
    "The loss function is called categorical cross entropy which is applicable for the classification problem of many classes.\n",
    "The Adam is called optimizer which is simply a type of stochastic gradient descent so that it trains better\n",
    "And the last is we want to track the accuracy of model.\n",
    "\"\"\"\n",
    "model.compile(loss='categorical_crossentropy',\n",
    "              optimizer='adam',\n",
    "              metrics=['accuracy'])\n",
    "\n",
    "#running our training\n",
    "hist = model.fit(x_train, y_train_one_hot,\n",
    "                batch_size=32, epochs=20,\n",
    "                validation_split = 0.2)"
   ]
  },
  {
   "cell_type": "code",
   "execution_count": 19,
   "metadata": {},
   "outputs": [
    {
     "data": {
      "image/png": "[encoded data removed]",
      "text/plain": [
       "<Figure size 432x288 with 1 Axes>"
      ]
     },
     "metadata": {},
     "output_type": "display_data"
    },
    {
     "data": {
      "image/png": "[encoded data removed]",
      "text/plain": [
       "<Figure size 432x288 with 1 Axes>"
      ]
     },
     "metadata": {},
     "output_type": "display_data"
    }
   ],
   "source": [
    "plt.plot(hist.history['loss'])\n",
    "plt.plot(hist.history['val_loss'])\n",
    "plt.title('Model loss')\n",
    "plt.ylabel('Loss')\n",
    "plt.xlabel('Epoch')\n",
    "plt.legend(['Train', 'Val'], loc='upper right')\n",
    "plt.show()\n",
    "\n",
    "#visulaising the accuracy\n",
    "plt.plot(hist.history['acc'])\n",
    "plt.plot(hist.history['val_acc'])\n",
    "plt.title('Model accuracy')\n",
    "plt.ylabel('Accuracy')\n",
    "plt.xlabel('Epoch')\n",
    "plt.legend(['Train', 'Val'], loc='lower right')\n",
    "plt.show()"
   ]
  },
  {
   "cell_type": "code",
   "execution_count": 20,
   "metadata": {},
   "outputs": [
    {
     "name": "stdout",
     "output_type": "stream",
     "text": [
      "10000/10000 [==============================] - 16s 2ms/step\n"
     ]
    },
    {
     "data": {
      "text/plain": [
       "0.77"
      ]
     },
     "execution_count": 20,
     "metadata": {},
     "output_type": "execute_result"
    }
   ],
   "source": [
    "#Evaluatin model on the test set\n",
    "model.evaluate(x_test,y_test_one_hot)[1]"
   ]
  },
  {
   "cell_type": "code",
   "execution_count": 25,
   "metadata": {},
   "outputs": [
    {
     "data": {
      "text/plain": [
       "\"\\nfrom keras.models import load_model\\nmodel = load_model('my_cifar10_model.h5')\\n\""
      ]
     },
     "execution_count": 25,
     "metadata": {},
     "output_type": "execute_result"
    }
   ],
   "source": [
    "#saving the model\n",
    "model.save('my_cifar10_model.h5')\n",
    "\n",
    "\"\"\"\n",
    "from keras.models import load_model\n",
    "model = load_model('my_cifar10_model.h5')\n",
    "\"\"\"\n"
   ]
  },
  {
   "cell_type": "markdown",
   "metadata": {},
   "source": [
    "# Testing With Our Own Images\n"
   ]
  },
  {
   "cell_type": "code",
   "execution_count": 18,
   "metadata": {},
   "outputs": [
    {
     "name": "stderr",
     "output_type": "stream",
     "text": [
      "/anaconda3/lib/python3.6/site-packages/skimage/transform/_warps.py:84: UserWarning: The default mode, 'constant', will be changed to 'reflect' in skimage 0.15.\n",
      "  warn(\"The default mode, 'constant', will be changed to 'reflect' in \"\n"
     ]
    },
    {
     "data": {
      "image/png": "[encoded data removed]",
      "text/plain": [
       "<Figure size 432x288 with 1 Axes>"
      ]
     },
     "metadata": {},
     "output_type": "display_data"
    }
   ],
   "source": [
    "#Reading the downloaded JPEG file as an array of pixel values\n",
    "my_image = plt.imread(\"cat.jpg\")\n",
    "\n",
    "#instead of using resize function we will use a package called scikit-image\n",
    "\n",
    "from skimage.transform import resize\n",
    "my_image_resized = resize(my_image, (32,32,3))\n",
    "\n",
    "#visualising our image\n",
    "img = plt.imshow(my_image_resized)"
   ]
  },
  {
   "cell_type": "code",
   "execution_count": 31,
   "metadata": {},
   "outputs": [
    {
     "data": {
      "text/plain": [
       "array([[0.09546626, 0.09250907, 0.09247216, 0.10001695, 0.11070944,\n",
       "        0.10376751, 0.10369447, 0.10463341, 0.09889902, 0.09783179]],\n",
       "      dtype=float32)"
      ]
     },
     "execution_count": 31,
     "metadata": {},
     "output_type": "execute_result"
    }
   ],
   "source": [
    "import numpy as np\n",
    "\n",
    "probabilities = model.predict(np.array( [my_image_resized,] ))\n",
    "probabilities\n",
    "\n",
    "\n"
   ]
  },
  {
   "cell_type": "code",
   "execution_count": 32,
   "metadata": {},
   "outputs": [
    {
     "name": "stdout",
     "output_type": "stream",
     "text": [
      "Most likely class: deer -- Probability: 0.110709436\n",
      "Second most likely class: horse -- Probability: 0.104633406\n",
      "Third most likely class: dog -- Probability: 0.103767514\n",
      "Fourth most likely class: frog -- Probability: 0.10369447\n",
      "Fifth most likely class: cat -- Probability: 0.10001695\n"
     ]
    }
   ],
   "source": [
    "number_to_class = ['airplane', 'automobile', 'bird', 'cat', 'deer', 'dog', 'frog', 'horse', 'ship', 'truck']\n",
    "index = np.argsort(probabilities[0,:])\n",
    "print(\"Most likely class:\", number_to_class[index[9]], \"-- Probability:\", probabilities[0,index[9]])\n",
    "print(\"Second most likely class:\", number_to_class[index[8]], \"-- Probability:\", probabilities[0,index[8]])\n",
    "print(\"Third most likely class:\", number_to_class[index[7]], \"-- Probability:\", probabilities[0,index[7]])\n",
    "print(\"Fourth most likely class:\", number_to_class[index[6]], \"-- Probability:\", probabilities[0,index[6]])\n",
    "print(\"Fifth most likely class:\", number_to_class[index[5]], \"-- Probability:\", probabilities[0,index[5]])"
   ]
  },
  {
   "cell_type": "code",
   "execution_count": null,
   "metadata": {},
   "outputs": [],
   "source": []
  }
 ],
 "metadata": {
  "kernelspec": {
   "display_name": "Python 3",
   "language": "python",
   "name": "python3"
  },
  "language_info": {
   "codemirror_mode": {
    "name": "ipython",
    "version": 3
   },
   "file_extension": ".py",
   "mimetype": "text/x-python",
   "name": "python",
   "nbconvert_exporter": "python",
   "pygments_lexer": "ipython3",
   "version": "3.6.5"
  }
 },
 "nbformat": 4,
 "nbformat_minor": 2
}
